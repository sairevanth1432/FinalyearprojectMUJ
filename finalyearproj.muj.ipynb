{
 "cells": [
  {
   "cell_type": "code",
   "execution_count": 1,
   "id": "17cce782",
   "metadata": {},
   "outputs": [
    {
     "name": "stdout",
     "output_type": "stream",
     "text": [
      "Libraries imported successfully\n"
     ]
    }
   ],
   "source": [
    "# Cell 1: Import libraries\n",
    "import pandas as pd\n",
    "from scipy.io import arff\n",
    "from sklearn.model_selection import train_test_split\n",
    "from sklearn.linear_model import LogisticRegression\n",
    "from sklearn.metrics import accuracy_score, classification_report, confusion_matrix\n",
    "import seaborn as sns\n",
    "import matplotlib.pyplot as plt\n",
    "import joblib\n",
    "import os\n",
    "print(\"Libraries imported successfully\")"
   ]
  },
  {
   "cell_type": "code",
   "execution_count": 2,
   "id": "4f3818c1",
   "metadata": {},
   "outputs": [
    {
     "name": "stdout",
     "output_type": "stream",
     "text": [
      "Dataset loaded successfully\n"
     ]
    }
   ],
   "source": [
    "# Cell 2: Load ARFF file\n",
    "arff_file = 'data/Training Dataset.arff'\n",
    "try:\n",
    "    data_arff, meta = arff.loadarff(arff_file)\n",
    "    df = pd.DataFrame(data_arff)\n",
    "    print(\"Dataset loaded successfully\")\n",
    "except Exception as e:\n",
    "    print(\"Error loading ARFF:\", e)\n",
    "    raise"
   ]
  },
  {
   "cell_type": "code",
   "execution_count": 3,
   "id": "ae008426",
   "metadata": {},
   "outputs": [
    {
     "name": "stdout",
     "output_type": "stream",
     "text": [
      "Byte strings decoded\n"
     ]
    }
   ],
   "source": [
    "# Cell 3: Decode byte strings\n",
    "for col in df.columns:\n",
    "    if df[col].dtype == 'object':\n",
    "        df[col] = df[col].str.decode('utf-8')\n",
    "print(\"Byte strings decoded\")"
   ]
  },
  {
   "cell_type": "code",
   "execution_count": 4,
   "id": "5c4c701d",
   "metadata": {},
   "outputs": [
    {
     "name": "stdout",
     "output_type": "stream",
     "text": [
      "object\n"
     ]
    }
   ],
   "source": [
    "print(df['Result'].dtype)"
   ]
  },
  {
   "cell_type": "code",
   "execution_count": 5,
   "id": "570e7782",
   "metadata": {},
   "outputs": [
    {
     "name": "stdout",
     "output_type": "stream",
     "text": [
      "Raw data head:\n",
      "  having_IP_Address URL_Length Shortining_Service having_At_Symbol  \\\n",
      "0                -1          1                  1                1   \n",
      "1                 1          1                  1                1   \n",
      "2                 1          0                  1                1   \n",
      "3                 1          0                  1                1   \n",
      "4                 1          0                 -1                1   \n",
      "\n",
      "  double_slash_redirecting Prefix_Suffix having_Sub_Domain SSLfinal_State  \\\n",
      "0                       -1            -1                -1             -1   \n",
      "1                        1            -1                 0              1   \n",
      "2                        1            -1                -1             -1   \n",
      "3                        1            -1                -1             -1   \n",
      "4                        1            -1                 1              1   \n",
      "\n",
      "  Domain_registeration_length Favicon  ... popUpWidnow Iframe age_of_domain  \\\n",
      "0                          -1       1  ...           1      1            -1   \n",
      "1                          -1       1  ...           1      1            -1   \n",
      "2                          -1       1  ...           1      1             1   \n",
      "3                           1       1  ...           1      1            -1   \n",
      "4                          -1       1  ...          -1      1            -1   \n",
      "\n",
      "  DNSRecord web_traffic Page_Rank Google_Index Links_pointing_to_page  \\\n",
      "0        -1          -1        -1            1                      1   \n",
      "1        -1           0        -1            1                      1   \n",
      "2        -1           1        -1            1                      0   \n",
      "3        -1           1        -1            1                     -1   \n",
      "4        -1           0        -1            1                      1   \n",
      "\n",
      "  Statistical_report Result  \n",
      "0                 -1     -1  \n",
      "1                  1     -1  \n",
      "2                 -1     -1  \n",
      "3                  1     -1  \n",
      "4                  1      1  \n",
      "\n",
      "[5 rows x 31 columns]\n",
      "\n",
      "Raw data shape: (11055, 31)\n",
      "Raw data columns: ['having_IP_Address', 'URL_Length', 'Shortining_Service', 'having_At_Symbol', 'double_slash_redirecting', 'Prefix_Suffix', 'having_Sub_Domain', 'SSLfinal_State', 'Domain_registeration_length', 'Favicon', 'port', 'HTTPS_token', 'Request_URL', 'URL_of_Anchor', 'Links_in_tags', 'SFH', 'Submitting_to_email', 'Abnormal_URL', 'Redirect', 'on_mouseover', 'RightClick', 'popUpWidnow', 'Iframe', 'age_of_domain', 'DNSRecord', 'web_traffic', 'Page_Rank', 'Google_Index', 'Links_pointing_to_page', 'Statistical_report', 'Result']\n",
      "\n",
      "Label column (Result) unique values:\n",
      "Result\n",
      "1     6157\n",
      "-1    4898\n",
      "Name: count, dtype: int64\n"
     ]
    }
   ],
   "source": [
    "# Cell 4: Inspect dataset\n",
    "print(\"Raw data head:\")\n",
    "print(df.head())\n",
    "print(\"\\nRaw data shape:\", df.shape)\n",
    "print(\"Raw data columns:\", df.columns.tolist())\n",
    "print(\"\\nLabel column (Result) unique values:\")\n",
    "print(df['Result'].value_counts())"
   ]
  },
  {
   "cell_type": "code",
   "execution_count": 6,
   "id": "d4827128",
   "metadata": {},
   "outputs": [
    {
     "name": "stdout",
     "output_type": "stream",
     "text": [
      "Duplicate rows: 5206\n",
      "Unique rows: 5849\n",
      "\n",
      "Subset (7 features + Result) duplicate rows: 10806\n",
      "Subset unique rows: 249\n",
      "\n",
      "Sample duplicate rows (subset):\n",
      "  having_IP_Address URL_Length having_At_Symbol double_slash_redirecting  \\\n",
      "0                -1          1                1                       -1   \n",
      "1                 1          1                1                        1   \n",
      "2                 1          0                1                        1   \n",
      "3                 1          0                1                        1   \n",
      "4                 1          0                1                        1   \n",
      "5                -1          0                1                       -1   \n",
      "6                 1          0                1                        1   \n",
      "7                 1          0                1                        1   \n",
      "8                 1          0                1                        1   \n",
      "9                 1          1                1                        1   \n",
      "\n",
      "  Prefix_Suffix having_Sub_Domain HTTPS_token Result  \n",
      "0            -1                -1          -1     -1  \n",
      "1            -1                 0          -1     -1  \n",
      "2            -1                -1          -1     -1  \n",
      "3            -1                -1          -1     -1  \n",
      "4            -1                 1           1      1  \n",
      "5            -1                 1          -1      1  \n",
      "6            -1                -1           1     -1  \n",
      "7            -1                -1          -1     -1  \n",
      "8            -1                 1          -1      1  \n",
      "9            -1                -1           1     -1  \n"
     ]
    }
   ],
   "source": [
    "# Cell 5: Check duplicates\n",
    "print(\"Duplicate rows:\", df.duplicated().sum())\n",
    "print(\"Unique rows:\", len(df) - df.duplicated().sum())\n",
    "\n",
    "# Check duplicates in subset\n",
    "features = [\n",
    "    'having_IP_Address', 'URL_Length', 'having_At_Symbol',\n",
    "    'double_slash_redirecting', 'Prefix_Suffix', 'having_Sub_Domain',\n",
    "    'HTTPS_token', 'Result'\n",
    "]\n",
    "df_subset = df[features]\n",
    "print(\"\\nSubset (7 features + Result) duplicate rows:\", df_subset.duplicated().sum())\n",
    "print(\"Subset unique rows:\", len(df_subset) - df_subset.duplicated().sum())\n",
    "print(\"\\nSample duplicate rows (subset):\")\n",
    "print(df_subset[df_subset.duplicated(keep=False)].head(10))"
   ]
  },
  {
   "cell_type": "code",
   "execution_count": 7,
   "id": "791d23db",
   "metadata": {},
   "outputs": [
    {
     "name": "stdout",
     "output_type": "stream",
     "text": [
      "Rows after removing duplicates: 5849\n"
     ]
    }
   ],
   "source": [
    "# Cell 7: Clean dataset\n",
    "df = df.drop_duplicates()\n",
    "print(\"Rows after removing duplicates:\", len(df))"
   ]
  },
  {
   "cell_type": "code",
   "execution_count": 8,
   "id": "2617b3ae",
   "metadata": {},
   "outputs": [
    {
     "name": "stdout",
     "output_type": "stream",
     "text": [
      "Features selected: ['having_IP_Address', 'URL_Length', 'having_At_Symbol', 'double_slash_redirecting', 'Prefix_Suffix', 'having_Sub_Domain', 'HTTPS_token']\n",
      "X shape: (5849, 7)\n",
      "y shape: (5849,)\n"
     ]
    }
   ],
   "source": [
    "# Cell 8: Select features and labels\n",
    "features = [\n",
    "    'having_IP_Address', 'URL_Length', 'having_At_Symbol',\n",
    "    'double_slash_redirecting', 'Prefix_Suffix', 'having_Sub_Domain',\n",
    "    'HTTPS_token'\n",
    "]\n",
    "# Optional: Use all features\n",
    "# features = [col for col in df.columns if col != 'Result']\n",
    "X = df[features]\n",
    "y = df['Result']\n",
    "print(\"Features selected:\", features)\n",
    "print(\"X shape:\", X.shape)\n",
    "print(\"y shape:\", y.shape)"
   ]
  },
  {
   "cell_type": "code",
   "execution_count": 9,
   "id": "28bd49f5",
   "metadata": {},
   "outputs": [
    {
     "name": "stdout",
     "output_type": "stream",
     "text": [
      "Data types converted\n",
      "X dtypes: having_IP_Address           int64\n",
      "URL_Length                  int64\n",
      "having_At_Symbol            int64\n",
      "double_slash_redirecting    int64\n",
      "Prefix_Suffix               int64\n",
      "having_Sub_Domain           int64\n",
      "HTTPS_token                 int64\n",
      "dtype: object\n",
      "y dtype: int64\n"
     ]
    }
   ],
   "source": [
    "# Cell 9: Convert data types\n",
    "try:\n",
    "    X = X.astype(float).astype(int)\n",
    "    y = y.map({'-1': 0, '1': 1, -1: 0, 1: 1, -1.0: 0, 1.0: 1})\n",
    "    print(\"Data types converted\")\n",
    "    print(\"X dtypes:\", X.dtypes)\n",
    "    print(\"y dtype:\", y.dtype)\n",
    "except ValueError as e:\n",
    "    print(\"Conversion error:\", e)\n",
    "    for col in X.columns:\n",
    "        print(f\"{col} unique values:\", X[col].unique())\n",
    "    raise"
   ]
  },
  {
   "cell_type": "code",
   "execution_count": 10,
   "id": "cb75396c",
   "metadata": {},
   "outputs": [
    {
     "name": "stdout",
     "output_type": "stream",
     "text": [
      "X_train shape: (4679, 7)\n",
      "X_test shape: (1170, 7)\n",
      "y_train shape: (4679,)\n",
      "y_test shape: (1170,)\n"
     ]
    }
   ],
   "source": [
    "# Cell 10: Split data\n",
    "X_train, X_test, y_train, y_test = train_test_split(X, y, test_size=0.2, random_state=42)\n",
    "print(\"X_train shape:\", X_train.shape)\n",
    "print(\"X_test shape:\", X_test.shape)\n",
    "print(\"y_train shape:\", y_train.shape)\n",
    "print(\"y_test shape:\", y_test.shape)"
   ]
  },
  {
   "cell_type": "code",
   "execution_count": 11,
   "id": "0591a78c",
   "metadata": {},
   "outputs": [
    {
     "name": "stdout",
     "output_type": "stream",
     "text": [
      "Model trained successfully\n"
     ]
    }
   ],
   "source": [
    "# Cell 11: Train model\n",
    "model = LogisticRegression(random_state=42, class_weight='balanced', max_iter=1000)\n",
    "model.fit(X_train, y_train)\n",
    "print(\"Model trained successfully\")"
   ]
  },
  {
   "cell_type": "code",
   "execution_count": 12,
   "id": "ee162b4e",
   "metadata": {},
   "outputs": [
    {
     "name": "stdout",
     "output_type": "stream",
     "text": [
      "Accuracy: 0.7307692307692307\n",
      "\n",
      "Classification Report:\n",
      "              precision    recall  f1-score   support\n",
      "\n",
      "    Phishing       0.73      0.79      0.76       620\n",
      "  Legitimate       0.74      0.67      0.70       550\n",
      "\n",
      "    accuracy                           0.73      1170\n",
      "   macro avg       0.73      0.73      0.73      1170\n",
      "weighted avg       0.73      0.73      0.73      1170\n",
      "\n"
     ]
    },
    {
     "data": {
      "image/png": "[encoded data removed]",
      "text/plain": [
       "<Figure size 640x480 with 2 Axes>"
      ]
     },
     "metadata": {},
     "output_type": "display_data"
    },
    {
     "name": "stdout",
     "output_type": "stream",
     "text": [
      "Confusion matrix saved to figures/confusion_matrix.png\n"
     ]
    }
   ],
   "source": [
    "# Cell 12: Evaluate model\n",
    "y_pred = model.predict(X_test)\n",
    "print(\"Accuracy:\", accuracy_score(y_test, y_pred))\n",
    "print(\"\\nClassification Report:\")\n",
    "print(classification_report(y_test, y_pred, target_names=['Phishing', 'Legitimate']))\n",
    "\n",
    "# Plot confusion matrix\n",
    "os.makedirs('figures', exist_ok=True)\n",
    "cm = confusion_matrix(y_test, y_pred)\n",
    "sns.heatmap(cm, annot=True, fmt='d', cmap='Blues', xticklabels=['Phishing', 'Legitimate'], yticklabels=['Phishing', 'Legitimate'])\n",
    "plt.xlabel('Predicted')\n",
    "plt.ylabel('Actual')\n",
    "plt.title('Confusion Matrix')\n",
    "plt.savefig('figures/confusion_matrix.png')\n",
    "plt.show()\n",
    "print(\"Confusion matrix saved to figures/confusion_matrix.png\")"
   ]
  },
  {
   "cell_type": "code",
   "execution_count": 13,
   "id": "4d0c8da4",
   "metadata": {},
   "outputs": [
    {
     "name": "stdout",
     "output_type": "stream",
     "text": [
      "Model saved to models/logistic_regression_model.pkl\n"
     ]
    }
   ],
   "source": [
    "# Cell 13: Save model\n",
    "os.makedirs('models', exist_ok=True)\n",
    "joblib.dump(model, 'models/logistic_regression_model.pkl')\n",
    "print(\"Model saved to models/logistic_regression_model.pkl\")"
   ]
  }
 ],
 "metadata": {
  "kernelspec": {
   "display_name": "Python 3",
   "language": "python",
   "name": "python3"
  },
  "language_info": {
   "codemirror_mode": {
    "name": "ipython",
    "version": 3
   },
   "file_extension": ".py",
   "mimetype": "text/x-python",
   "name": "python",
   "nbconvert_exporter": "python",
   "pygments_lexer": "ipython3",
   "version": "3.13.5"
  }
 },
 "nbformat": 4,
 "nbformat_minor": 5
}
